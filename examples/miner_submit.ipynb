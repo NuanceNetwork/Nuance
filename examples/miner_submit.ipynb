{
 "cells": [
  {
   "cell_type": "markdown",
   "metadata": {},
   "source": [
    "### Miner can submit to validators"
   ]
  },
  {
   "cell_type": "code",
   "execution_count": null,
   "metadata": {},
   "outputs": [],
   "source": [
    "!pip install bittensor"
   ]
  },
  {
   "cell_type": "code",
   "execution_count": 12,
   "metadata": {},
   "outputs": [],
   "source": [
    "import aiohttp\n",
    "import asyncio\n",
    "import json\n",
    "import time\n",
    "from hashlib import sha256\n",
    "from uuid import uuid4\n",
    "from math import ceil\n",
    "from typing import Any, Optional\n",
    "\n",
    "import bittensor as bt"
   ]
  },
  {
   "cell_type": "code",
   "execution_count": 1,
   "metadata": {},
   "outputs": [],
   "source": [
    "wallet_name = \"default\"\n",
    "wallet_hotkey = \"default\"\n",
    "\n",
    "platform = \"twitter\"\n",
    "verification_post_id = \"123\"\n",
    "account_id = \"123\"\n",
    "username = \"123\"\n",
    "post_id = \"123\"\n",
    "interaction_id = \"123\"\n",
    "\n",
    "data = {\n",
    "    \"platform\": platform,\n",
    "    \"account_id\": account_id,\n",
    "    \"username\": username,\n",
    "    \"verification_post_id\": verification_post_id,\n",
    "    \"post_id\": post_id,\n",
    "    \"interaction_id\": interaction_id,\n",
    "}"
   ]
  },
  {
   "cell_type": "code",
   "execution_count": 6,
   "metadata": {},
   "outputs": [],
   "source": [
    "metagraph = bt.metagraph(23)"
   ]
  },
  {
   "cell_type": "code",
   "execution_count": null,
   "metadata": {},
   "outputs": [],
   "source": [
    "all_axons = metagraph.axons\n",
    "all_validator_axons = []\n",
    "for axon in all_axons:\n",
    "    axon_hotkey = axon.hotkey\n",
    "    if axon_hotkey not in metagraph.hotkeys:\n",
    "        continue\n",
    "    axon_uid = metagraph.hotkeys.index(axon_hotkey)\n",
    "    if metagraph.validator_permit[axon_uid] and axon.ip != \"0.0.0.0\":\n",
    "        all_validator_axons.append(axon)\n",
    "\n",
    "wallet = bt.wallet(name=wallet_name, hotkey=wallet_hotkey)"
   ]
  },
  {
   "cell_type": "code",
   "execution_count": null,
   "metadata": {},
   "outputs": [],
   "source": [
    "# Inner method to send request to a single axon\n",
    "async def send_request_to_axon(axon: bt.AxonInfo):\n",
    "    url = f\"http://{axon.ip}:{axon.port}/submit\"  # Update with the correct URL endpoint\n",
    "    request_body_bytes, request_headers = create_request(\n",
    "        data=data,\n",
    "        sender_keypair=wallet.hotkey,\n",
    "        receiver_hotkey=axon.hotkey\n",
    "    )\n",
    "\n",
    "    try:\n",
    "        async with aiohttp.ClientSession() as session:\n",
    "            async with session.post(url, json=data, headers=request_headers) as response:\n",
    "                if response.status == 200:\n",
    "                    return {'axon': axon.hotkey, 'status': response.status, 'response': await response.json()}\n",
    "                else:\n",
    "                    error_message = await response.text()  # Capture response message for error details\n",
    "                    return {'axon': axon.hotkey, 'status': response.status, 'error': error_message}\n",
    "    except Exception as e:\n",
    "        return {'axon': axon.hotkey, 'status': 'error', 'error': str(e)}\n",
    "    \n",
    "def create_request(\n",
    "    data: dict[str, Any],\n",
    "    sender_keypair: bt.Keypair,\n",
    "    receiver_hotkey: Optional[str] = None\n",
    ") -> tuple[bytes, dict[str, str]]:\n",
    "    \"\"\"\n",
    "    Create signed request with Epistula V2 protocol.\n",
    "    Returns (body_bytes, headers)\n",
    "    \"\"\"\n",
    "    # Convert data to bytes\n",
    "    body_bytes = json.dumps(data).encode(\"utf-8\")\n",
    "    \n",
    "    # Generate timestamp and UUID\n",
    "    timestamp = round(time.time() * 1000)\n",
    "    timestamp_interval = ceil(timestamp / 1e4) * 1e4\n",
    "    uuid_str = str(uuid4())\n",
    "    \n",
    "    # Create base headers\n",
    "    headers = {\n",
    "        \"Epistula-Version\": \"2\",\n",
    "        \"Epistula-Timestamp\": str(timestamp),\n",
    "        \"Epistula-Uuid\": uuid_str,\n",
    "        \"Epistula-Signed-By\": sender_keypair.ss58_address,\n",
    "        \"Epistula-Request-Signature\": \"0x\" + sender_keypair.sign(\n",
    "            f\"{sha256(body_bytes).hexdigest()}.{uuid_str}.{timestamp}.{receiver_hotkey or ''}\"\n",
    "        ).hex(),\n",
    "    }\n",
    "    \n",
    "    # Add receiver-specific headers if signed for someone\n",
    "    if receiver_hotkey:\n",
    "        headers[\"Epistula-Signed-For\"] = receiver_hotkey\n",
    "        headers[\"Epistula-Secret-Signature-0\"] = (\n",
    "            \"0x\" + sender_keypair.sign(str(timestamp_interval - 1) + \".\" + receiver_hotkey).hex()\n",
    "        )\n",
    "        headers[\"Epistula-Secret-Signature-1\"] = (\n",
    "            \"0x\" + sender_keypair.sign(str(timestamp_interval) + \".\" + receiver_hotkey).hex()\n",
    "        )\n",
    "        headers[\"Epistula-Secret-Signature-2\"] = (\n",
    "            \"0x\" + sender_keypair.sign(str(timestamp_interval + 1) + \".\" + receiver_hotkey).hex()\n",
    "        )\n",
    "    \n",
    "    return body_bytes, headers"
   ]
  },
  {
   "cell_type": "code",
   "execution_count": null,
   "metadata": {},
   "outputs": [],
   "source": [
    "# Send requests concurrently\n",
    "tasks = [send_request_to_axon(axon) for axon in all_validator_axons]\n",
    "responses = await asyncio.gather(*tasks, return_exceptions=True)\n",
    "\n",
    "for response in responses:\n",
    "    if isinstance(response, Exception):\n",
    "        print(f\"Exception occurred: {response}\")\n",
    "    else:\n",
    "        if \"error\" in response:\n",
    "            print(f\"Error while sending to axon {response['axon']}: {response['error']}\")\n",
    "        else:\n",
    "            print(f\"Successfully submitted to axon {response['axon']} with status {response['status']}\")"
   ]
  }
 ],
 "metadata": {
  "kernelspec": {
   "display_name": ".venv_2",
   "language": "python",
   "name": "python3"
  },
  "language_info": {
   "codemirror_mode": {
    "name": "ipython",
    "version": 3
   },
   "file_extension": ".py",
   "mimetype": "text/x-python",
   "name": "python",
   "nbconvert_exporter": "python",
   "pygments_lexer": "ipython3",
   "version": "3.10.12"
  }
 },
 "nbformat": 4,
 "nbformat_minor": 2
}
