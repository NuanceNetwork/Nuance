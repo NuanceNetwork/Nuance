{
 "nbformat": 4,
 "nbformat_minor": 0,
 "metadata": {
  "kernelspec": {"name": "python3", "display_name": "Python 3"},
  "language_info": {"name": "python"}
 },
 "cells": [
  {"cell_type":"markdown","metadata":{},"source":["# How to Join Nuance (Subnet 23)\n\nA concise, script‑friendly path to registering as a Nuance miner, adapted from <https://api.nuance.info/scalar#description/introduction>.\n"]},
  {"cell_type":"markdown","metadata":{},"source":["## 0  Prerequisites\n* Python ³·10 + with `pip`\n* ~0.5 TAO for fees/stake\n* Public X (Twitter) account with posting history\n* Basic CLI familiarity (Linux/macOS/WSL or PowerShell)\n"]},
  {"cell_type":"markdown","metadata":{},"source":["## 1  Install Bittensor tooling"]},
  {"cell_type":"code","metadata":{"id":"install_bt"},"execution_count":null,"outputs":[],"source":["!pip install --upgrade bittensor bittensor-cli   # yields the `btcli` command"]},
  {"cell_type":"markdown","metadata":{},"source":["## 2  Create a wallet (cold & hot keys)"]},
  {"cell_type":"code","metadata":{"id":"wallet_new"},"execution_count":null,"outputs":[],"source":["!btcli wallet new --wallet.name nuance"]},
  {"cell_type":"markdown","metadata":{},"source":["Save the 12‑word *mnemonic* and passphrase **offline**. The **coldkey** holds TAO; the **hotkey** earns rewards."]},
  {"cell_type":"markdown","metadata":{},"source":["## 3  Fund the coldkey"]},
  {"cell_type":"markdown","metadata":{},"source":["Send ≈0.5 TAO to the coldkey address. Confirm arrival with:\n```bash\nbtcli wallet overview --wallet.name nuance\n```\nExpect the balance within a few minutes on Finney."]},
  {"cell_type":"markdown","metadata":{},"source":["## 4  Register the hotkey on Subnet 23"]},
  {"cell_type":"code","metadata":{"id":"register"},"execution_count":null,"outputs":[],"source":["!btcli subnet register --netuid 23 --wallet.name nuance --wallet.hotkey default"]},
  {"cell_type":"markdown","metadata":{},"source":["Type `y` to broadcast the on‑chain registration (≈0.002 TAO fee)."]},
  {"cell_type":"markdown","metadata":{},"source":["## 5  Stake the deposited TAO"]},
  {"cell_type":"code","metadata":{"id":"stake"},"execution_count":null,"outputs":[],"source":["!btcli stake add --netuid 23 --wallet.name nuance --all"]},
  {"cell_type":"markdown","metadata":{},"source":["## 6  Publish a verification post on X"]},
  {"cell_type":"markdown","metadata":{},"source":["Quote‑tweet Nuance’s pinned announcement (<https://x.com/NuanceSubnet/status/1909263356654952674>) and include your hotkey.\n\nExample:\n```\nJoining Nuance – hotkey: 5F7nTtN…XhVVi\n#NuanceNetwork #Bittensor #Web3AI\n```\nCopy the numeric ID at the end of the tweet URL (`/status/<ID>`)."]},
  {"cell_type":"markdown","metadata":{},"source":["## 7  Link your X account on‑chain"]},
  {"cell_type":"markdown","metadata":{},"source":["### Why this step?\nYour tweet proves that you control the X handle and ties it to the hotkey in Subnet 23’s metadata pallet. Validators read this record before scoring your posts. You only need to do it **once** per hotkey.\n\n### How to run it\n* **Notebook** – fill the variables below and execute the cell.\n* **Standalone** – copy the code into `commit.py` and run `python commit.py` in the same virtual‑env.\n\nThe call `subtensor.commit(...)` stores the string `<twitter_handle>@<tweet_id>` on‑chain (fee ≈ 0.001 TAO)."]},
  {"cell_type":"code","metadata":{"id":"commit"},"execution_count":null,"outputs":[],"source":["import bittensor as bt\n\n# === USER INPUT ===\nx_account_username = \"your_twitter_handle\"        # without @\nverification_post_id = \"1234567890123456789\"       # digits after /status/\nWALLET_NAME = \"nuance\"                              # wallet created above\nHOTKEY      = \"default\"                             # hotkey name\n# ===================\n\n# Connect to Finney (Nuance lives here)\nsubtensor = bt.Subtensor(network=\"finney\")\n\n# Load keypair\nwallet = bt.wallet(name=WALLET_NAME, hotkey=HOTKEY)\n\ncommit_data = f\"{x_account_username}@{verification_post_id}\"\n\n# Broadcast commit and get tx‑hash\ntx_hash = subtensor.commit(wallet=wallet, netuid=23, data=commit_data)\nprint(\"Submitted commit tx:\", tx_hash)\n\n# Optional: wait for inclusion / finality\nsubtensor.block_until_finalized(tx_hash)\nprint(\"Commit finalized — X handle bound to hotkey!\")"]},
  {"cell_type":"markdown","metadata":{},"source":["If the final message appears without error, proceed to mining."]},
  {"cell_type":"markdown","metadata":{},"source":["## 8  “Mining”: contribute thoughtful replies"]},
  {"cell_type":"markdown","metadata":{},"source":["Post civil, evidence‑based replies on X. Nuance validators reward clarity, humility, and citations. Higher scores → more TAO emissions."]},
  {"cell_type":"markdown","metadata":{},"source":["## 9  Check rewards"]},
  {"cell_type":"code","metadata":{"id":"check_stake"},"execution_count":null,"outputs":[],"source":["!btcli stake list --wallet.name nuance"]},
  {"cell_type":"markdown","metadata":{},"source":["Or paste the hotkey into <https://nuance.info> to view score, check on your tweets and interactions, find others in the ecosystem to engage with."]},
  {"cell_type":"markdown","metadata":{},"source":["---\n### Using the Nuance REST API"]},
  {"cell_type":"markdown","metadata":{},"source":["Key endpoints (full schema at <https://api.nuance.info/scalar>):\n* `GET /stats/miner/{hotkey}` – emissions, rank, score\n* `GET /stats/subnet/23` – global emissions & hyper‑parameters\n* `GET /posts/latest?limit=20` – recent content under evaluation\n"]},
  {"cell_type":"code","metadata":{"id":"api_example"},"execution_count":null,"outputs":[],"source":["import requests, pprint\n\nhotkey = \"YOUR_HOTKEY\"\nresp = requests.get(f'https://api.nuance.info/stats/miner/{hotkey}')\nresp.raise_for_status()\n\npprint.pp(resp.json())"]},
  {"cell_type":"markdown","metadata":{},"source":["Happy mining — remember: *quality conversation > quantity*.\n"]}
 ]
}
