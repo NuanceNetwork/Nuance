{
  "nbformat": 4,
  "nbformat_minor": 0,
  "metadata": {
    "colab": {
      "provenance": []
    },
    "kernelspec": {
      "name": "python3",
      "display_name": "Python 3"
    },
    "language_info": {
      "name": "python"
    }
  },
  "cells": [
    {
      "cell_type": "code",
      "execution_count": 3,
      "metadata": {
        "colab": {
          "base_uri": "https://localhost:8080/"
        },
        "id": "S7TqyeXpfiEW",
        "outputId": "cbbe291b-5431-48c8-b7ac-4e2575938885"
      },
      "outputs": [
        {
          "output_type": "stream",
          "name": "stdout",
          "text": [
            "Requirement already satisfied: bittensor==9.1.0 in /usr/local/lib/python3.11/dist-packages (9.1.0)\n",
            "Requirement already satisfied: wheel in /usr/local/lib/python3.11/dist-packages (from bittensor==9.1.0) (0.45.1)\n",
            "Requirement already satisfied: setuptools~=70.0.0 in /usr/local/lib/python3.11/dist-packages (from bittensor==9.1.0) (70.0.0)\n",
            "Requirement already satisfied: aiohttp~=3.9 in /usr/local/lib/python3.11/dist-packages (from bittensor==9.1.0) (3.11.15)\n",
            "Requirement already satisfied: asyncstdlib~=3.13.0 in /usr/local/lib/python3.11/dist-packages (from bittensor==9.1.0) (3.13.1)\n",
            "Requirement already satisfied: colorama~=0.4.6 in /usr/local/lib/python3.11/dist-packages (from bittensor==9.1.0) (0.4.6)\n",
            "Requirement already satisfied: fastapi~=0.110.1 in /usr/local/lib/python3.11/dist-packages (from bittensor==9.1.0) (0.110.3)\n",
            "Requirement already satisfied: munch~=2.5.0 in /usr/local/lib/python3.11/dist-packages (from bittensor==9.1.0) (2.5.0)\n",
            "Requirement already satisfied: numpy~=2.0.1 in /usr/local/lib/python3.11/dist-packages (from bittensor==9.1.0) (2.0.2)\n",
            "Requirement already satisfied: msgpack-numpy-opentensor~=0.5.0 in /usr/local/lib/python3.11/dist-packages (from bittensor==9.1.0) (0.5.0)\n",
            "Requirement already satisfied: nest-asyncio in /usr/local/lib/python3.11/dist-packages (from bittensor==9.1.0) (1.6.0)\n",
            "Requirement already satisfied: netaddr in /usr/local/lib/python3.11/dist-packages (from bittensor==9.1.0) (1.3.0)\n",
            "Requirement already satisfied: packaging in /usr/local/lib/python3.11/dist-packages (from bittensor==9.1.0) (24.2)\n",
            "Requirement already satisfied: python-statemachine~=2.1 in /usr/local/lib/python3.11/dist-packages (from bittensor==9.1.0) (2.5.0)\n",
            "Requirement already satisfied: pycryptodome<4.0.0,>=3.18.0 in /usr/local/lib/python3.11/dist-packages (from bittensor==9.1.0) (3.23.0)\n",
            "Requirement already satisfied: pyyaml in /usr/local/lib/python3.11/dist-packages (from bittensor==9.1.0) (6.0.2)\n",
            "Requirement already satisfied: retry in /usr/local/lib/python3.11/dist-packages (from bittensor==9.1.0) (0.9.2)\n",
            "Requirement already satisfied: requests in /usr/local/lib/python3.11/dist-packages (from bittensor==9.1.0) (2.32.3)\n",
            "Requirement already satisfied: rich in /usr/local/lib/python3.11/dist-packages (from bittensor==9.1.0) (13.9.4)\n",
            "Requirement already satisfied: pydantic<3,>=2.3 in /usr/local/lib/python3.11/dist-packages (from bittensor==9.1.0) (2.11.7)\n",
            "Requirement already satisfied: python-Levenshtein in /usr/local/lib/python3.11/dist-packages (from bittensor==9.1.0) (0.27.1)\n",
            "Requirement already satisfied: scalecodec==1.2.11 in /usr/local/lib/python3.11/dist-packages (from bittensor==9.1.0) (1.2.11)\n",
            "Requirement already satisfied: uvicorn in /usr/local/lib/python3.11/dist-packages (from bittensor==9.1.0) (0.35.0)\n",
            "Requirement already satisfied: websockets>=14.1 in /usr/local/lib/python3.11/dist-packages (from bittensor==9.1.0) (15.0.1)\n",
            "Requirement already satisfied: bittensor-commit-reveal>=0.2.0 in /usr/local/lib/python3.11/dist-packages (from bittensor==9.1.0) (0.4.0)\n",
            "Requirement already satisfied: bittensor-wallet>=3.0.4 in /usr/local/lib/python3.11/dist-packages (from bittensor==9.1.0) (3.1.0)\n",
            "Requirement already satisfied: async-substrate-interface>=1.0.5 in /usr/local/lib/python3.11/dist-packages (from bittensor==9.1.0) (1.4.1)\n",
            "Requirement already satisfied: more-itertools in /usr/local/lib/python3.11/dist-packages (from scalecodec==1.2.11->bittensor==9.1.0) (10.7.0)\n",
            "Requirement already satisfied: base58>=2.0.1 in /usr/local/lib/python3.11/dist-packages (from scalecodec==1.2.11->bittensor==9.1.0) (2.1.1)\n",
            "Requirement already satisfied: aiohappyeyeballs>=2.3.0 in /usr/local/lib/python3.11/dist-packages (from aiohttp~=3.9->bittensor==9.1.0) (2.6.1)\n",
            "Requirement already satisfied: aiosignal>=1.1.2 in /usr/local/lib/python3.11/dist-packages (from aiohttp~=3.9->bittensor==9.1.0) (1.4.0)\n",
            "Requirement already satisfied: attrs>=17.3.0 in /usr/local/lib/python3.11/dist-packages (from aiohttp~=3.9->bittensor==9.1.0) (25.3.0)\n",
            "Requirement already satisfied: frozenlist>=1.1.1 in /usr/local/lib/python3.11/dist-packages (from aiohttp~=3.9->bittensor==9.1.0) (1.7.0)\n",
            "Requirement already satisfied: multidict<7.0,>=4.5 in /usr/local/lib/python3.11/dist-packages (from aiohttp~=3.9->bittensor==9.1.0) (6.6.3)\n",
            "Requirement already satisfied: propcache>=0.2.0 in /usr/local/lib/python3.11/dist-packages (from aiohttp~=3.9->bittensor==9.1.0) (0.3.2)\n",
            "Requirement already satisfied: yarl<2.0,>=1.17.0 in /usr/local/lib/python3.11/dist-packages (from aiohttp~=3.9->bittensor==9.1.0) (1.20.1)\n",
            "Requirement already satisfied: bt-decode==v0.6.0 in /usr/local/lib/python3.11/dist-packages (from async-substrate-interface>=1.0.5->bittensor==9.1.0) (0.6.0)\n",
            "Requirement already satisfied: xxhash in /usr/local/lib/python3.11/dist-packages (from async-substrate-interface>=1.0.5->bittensor==9.1.0) (3.5.0)\n",
            "Requirement already satisfied: toml==0.10.0 in /usr/local/lib/python3.11/dist-packages (from bt-decode==v0.6.0->async-substrate-interface>=1.0.5->bittensor==9.1.0) (0.10.0)\n",
            "Requirement already satisfied: starlette<0.38.0,>=0.37.2 in /usr/local/lib/python3.11/dist-packages (from fastapi~=0.110.1->bittensor==9.1.0) (0.37.2)\n",
            "Requirement already satisfied: typing-extensions>=4.8.0 in /usr/local/lib/python3.11/dist-packages (from fastapi~=0.110.1->bittensor==9.1.0) (4.14.1)\n",
            "Requirement already satisfied: msgpack>=0.5.2 in /usr/local/lib/python3.11/dist-packages (from msgpack-numpy-opentensor~=0.5.0->bittensor==9.1.0) (1.1.1)\n",
            "Requirement already satisfied: six in /usr/local/lib/python3.11/dist-packages (from munch~=2.5.0->bittensor==9.1.0) (1.17.0)\n",
            "Requirement already satisfied: annotated-types>=0.6.0 in /usr/local/lib/python3.11/dist-packages (from pydantic<3,>=2.3->bittensor==9.1.0) (0.7.0)\n",
            "Requirement already satisfied: pydantic-core==2.33.2 in /usr/local/lib/python3.11/dist-packages (from pydantic<3,>=2.3->bittensor==9.1.0) (2.33.2)\n",
            "Requirement already satisfied: typing-inspection>=0.4.0 in /usr/local/lib/python3.11/dist-packages (from pydantic<3,>=2.3->bittensor==9.1.0) (0.4.1)\n",
            "Requirement already satisfied: charset-normalizer<4,>=2 in /usr/local/lib/python3.11/dist-packages (from requests->bittensor==9.1.0) (3.4.2)\n",
            "Requirement already satisfied: idna<4,>=2.5 in /usr/local/lib/python3.11/dist-packages (from requests->bittensor==9.1.0) (3.10)\n",
            "Requirement already satisfied: urllib3<3,>=1.21.1 in /usr/local/lib/python3.11/dist-packages (from requests->bittensor==9.1.0) (2.4.0)\n",
            "Requirement already satisfied: certifi>=2017.4.17 in /usr/local/lib/python3.11/dist-packages (from requests->bittensor==9.1.0) (2025.7.9)\n",
            "Requirement already satisfied: Levenshtein==0.27.1 in /usr/local/lib/python3.11/dist-packages (from python-Levenshtein->bittensor==9.1.0) (0.27.1)\n",
            "Requirement already satisfied: rapidfuzz<4.0.0,>=3.9.0 in /usr/local/lib/python3.11/dist-packages (from Levenshtein==0.27.1->python-Levenshtein->bittensor==9.1.0) (3.13.0)\n",
            "Requirement already satisfied: decorator>=3.4.2 in /usr/local/lib/python3.11/dist-packages (from retry->bittensor==9.1.0) (4.4.2)\n",
            "Requirement already satisfied: py<2.0.0,>=1.4.26 in /usr/local/lib/python3.11/dist-packages (from retry->bittensor==9.1.0) (1.11.0)\n",
            "Requirement already satisfied: markdown-it-py>=2.2.0 in /usr/local/lib/python3.11/dist-packages (from rich->bittensor==9.1.0) (3.0.0)\n",
            "Requirement already satisfied: pygments<3.0.0,>=2.13.0 in /usr/local/lib/python3.11/dist-packages (from rich->bittensor==9.1.0) (2.19.2)\n",
            "Requirement already satisfied: click>=7.0 in /usr/local/lib/python3.11/dist-packages (from uvicorn->bittensor==9.1.0) (8.2.1)\n",
            "Requirement already satisfied: h11>=0.8 in /usr/local/lib/python3.11/dist-packages (from uvicorn->bittensor==9.1.0) (0.16.0)\n",
            "Requirement already satisfied: mdurl~=0.1 in /usr/local/lib/python3.11/dist-packages (from markdown-it-py>=2.2.0->rich->bittensor==9.1.0) (0.1.2)\n",
            "Requirement already satisfied: anyio<5,>=3.4.0 in /usr/local/lib/python3.11/dist-packages (from starlette<0.38.0,>=0.37.2->fastapi~=0.110.1->bittensor==9.1.0) (4.9.0)\n",
            "Requirement already satisfied: sniffio>=1.1 in /usr/local/lib/python3.11/dist-packages (from anyio<5,>=3.4.0->starlette<0.38.0,>=0.37.2->fastapi~=0.110.1->bittensor==9.1.0) (1.3.1)\n",
            "Collecting bittensor-cli\n",
            "  Downloading bittensor_cli-9.8.4-py3-none-any.whl.metadata (6.6 kB)\n",
            "Requirement already satisfied: wheel in /usr/local/lib/python3.11/dist-packages (from bittensor-cli) (0.45.1)\n",
            "Requirement already satisfied: async-substrate-interface>=1.1.0 in /usr/local/lib/python3.11/dist-packages (from bittensor-cli) (1.4.1)\n",
            "Collecting aiohttp~=3.10.2 (from bittensor-cli)\n",
            "  Downloading aiohttp-3.10.11-cp311-cp311-manylinux_2_17_x86_64.manylinux2014_x86_64.whl.metadata (7.7 kB)\n",
            "Collecting backoff~=2.2.1 (from bittensor-cli)\n",
            "  Downloading backoff-2.2.1-py3-none-any.whl.metadata (14 kB)\n",
            "Collecting click<8.2.0 (from bittensor-cli)\n",
            "  Downloading click-8.1.8-py3-none-any.whl.metadata (2.3 kB)\n",
            "Requirement already satisfied: GitPython>=3.0.0 in /usr/local/lib/python3.11/dist-packages (from bittensor-cli) (3.1.44)\n",
            "Requirement already satisfied: netaddr~=1.3.0 in /usr/local/lib/python3.11/dist-packages (from bittensor-cli) (1.3.0)\n",
            "Requirement already satisfied: numpy<3.0.0,>=2.0.1 in /usr/local/lib/python3.11/dist-packages (from bittensor-cli) (2.0.2)\n",
            "Requirement already satisfied: Jinja2 in /usr/local/lib/python3.11/dist-packages (from bittensor-cli) (3.1.6)\n",
            "Requirement already satisfied: pycryptodome<4.0.0,>=3.0.0 in /usr/local/lib/python3.11/dist-packages (from bittensor-cli) (3.23.0)\n",
            "Requirement already satisfied: PyYAML~=6.0.1 in /usr/local/lib/python3.11/dist-packages (from bittensor-cli) (6.0.2)\n",
            "Requirement already satisfied: rich<15.0,>=13.7 in /usr/local/lib/python3.11/dist-packages (from bittensor-cli) (13.9.4)\n",
            "Requirement already satisfied: scalecodec==1.2.11 in /usr/local/lib/python3.11/dist-packages (from bittensor-cli) (1.2.11)\n",
            "Collecting typer<0.16,>=0.12 (from bittensor-cli)\n",
            "  Downloading typer-0.15.4-py3-none-any.whl.metadata (15 kB)\n",
            "Requirement already satisfied: bittensor-wallet>=3.0.7 in /usr/local/lib/python3.11/dist-packages (from bittensor-cli) (3.1.0)\n",
            "Collecting plotille>=5.0.0 (from bittensor-cli)\n",
            "  Downloading plotille-5.0.0.tar.gz (53 kB)\n",
            "\u001b[2K     \u001b[90m━━━━━━━━━━━━━━━━━━━━━━━━━━━━━━━━━━━━━━━━\u001b[0m \u001b[32m53.4/53.4 kB\u001b[0m \u001b[31m2.2 MB/s\u001b[0m eta \u001b[36m0:00:00\u001b[0m\n",
            "\u001b[?25h  Installing build dependencies ... \u001b[?25l\u001b[?25hdone\n",
            "  Getting requirements to build wheel ... \u001b[?25l\u001b[?25hdone\n",
            "  Preparing metadata (pyproject.toml) ... \u001b[?25l\u001b[?25hdone\n",
            "Collecting plotly>=6.0.0 (from bittensor-cli)\n",
            "  Downloading plotly-6.2.0-py3-none-any.whl.metadata (8.5 kB)\n",
            "Requirement already satisfied: more-itertools in /usr/local/lib/python3.11/dist-packages (from scalecodec==1.2.11->bittensor-cli) (10.7.0)\n",
            "Requirement already satisfied: base58>=2.0.1 in /usr/local/lib/python3.11/dist-packages (from scalecodec==1.2.11->bittensor-cli) (2.1.1)\n",
            "Requirement already satisfied: requests>=2.24.0 in /usr/local/lib/python3.11/dist-packages (from scalecodec==1.2.11->bittensor-cli) (2.32.3)\n",
            "Requirement already satisfied: aiohappyeyeballs>=2.3.0 in /usr/local/lib/python3.11/dist-packages (from aiohttp~=3.10.2->bittensor-cli) (2.6.1)\n",
            "Requirement already satisfied: aiosignal>=1.1.2 in /usr/local/lib/python3.11/dist-packages (from aiohttp~=3.10.2->bittensor-cli) (1.4.0)\n",
            "Requirement already satisfied: attrs>=17.3.0 in /usr/local/lib/python3.11/dist-packages (from aiohttp~=3.10.2->bittensor-cli) (25.3.0)\n",
            "Requirement already satisfied: frozenlist>=1.1.1 in /usr/local/lib/python3.11/dist-packages (from aiohttp~=3.10.2->bittensor-cli) (1.7.0)\n",
            "Requirement already satisfied: multidict<7.0,>=4.5 in /usr/local/lib/python3.11/dist-packages (from aiohttp~=3.10.2->bittensor-cli) (6.6.3)\n",
            "Requirement already satisfied: yarl<2.0,>=1.12.0 in /usr/local/lib/python3.11/dist-packages (from aiohttp~=3.10.2->bittensor-cli) (1.20.1)\n",
            "Requirement already satisfied: bt-decode==v0.6.0 in /usr/local/lib/python3.11/dist-packages (from async-substrate-interface>=1.1.0->bittensor-cli) (0.6.0)\n",
            "Requirement already satisfied: websockets>=14.1 in /usr/local/lib/python3.11/dist-packages (from async-substrate-interface>=1.1.0->bittensor-cli) (15.0.1)\n",
            "Requirement already satisfied: xxhash in /usr/local/lib/python3.11/dist-packages (from async-substrate-interface>=1.1.0->bittensor-cli) (3.5.0)\n",
            "Requirement already satisfied: toml==0.10.0 in /usr/local/lib/python3.11/dist-packages (from bt-decode==v0.6.0->async-substrate-interface>=1.1.0->bittensor-cli) (0.10.0)\n",
            "Requirement already satisfied: gitdb<5,>=4.0.1 in /usr/local/lib/python3.11/dist-packages (from GitPython>=3.0.0->bittensor-cli) (4.0.12)\n",
            "Requirement already satisfied: narwhals>=1.15.1 in /usr/local/lib/python3.11/dist-packages (from plotly>=6.0.0->bittensor-cli) (1.46.0)\n",
            "Requirement already satisfied: packaging in /usr/local/lib/python3.11/dist-packages (from plotly>=6.0.0->bittensor-cli) (24.2)\n",
            "Requirement already satisfied: markdown-it-py>=2.2.0 in /usr/local/lib/python3.11/dist-packages (from rich<15.0,>=13.7->bittensor-cli) (3.0.0)\n",
            "Requirement already satisfied: pygments<3.0.0,>=2.13.0 in /usr/local/lib/python3.11/dist-packages (from rich<15.0,>=13.7->bittensor-cli) (2.19.2)\n",
            "Requirement already satisfied: typing-extensions>=3.7.4.3 in /usr/local/lib/python3.11/dist-packages (from typer<0.16,>=0.12->bittensor-cli) (4.14.1)\n",
            "Requirement already satisfied: shellingham>=1.3.0 in /usr/local/lib/python3.11/dist-packages (from typer<0.16,>=0.12->bittensor-cli) (1.5.4)\n",
            "Requirement already satisfied: MarkupSafe>=2.0 in /usr/local/lib/python3.11/dist-packages (from Jinja2->bittensor-cli) (3.0.2)\n",
            "Requirement already satisfied: smmap<6,>=3.0.1 in /usr/local/lib/python3.11/dist-packages (from gitdb<5,>=4.0.1->GitPython>=3.0.0->bittensor-cli) (5.0.2)\n",
            "Requirement already satisfied: mdurl~=0.1 in /usr/local/lib/python3.11/dist-packages (from markdown-it-py>=2.2.0->rich<15.0,>=13.7->bittensor-cli) (0.1.2)\n",
            "Requirement already satisfied: charset-normalizer<4,>=2 in /usr/local/lib/python3.11/dist-packages (from requests>=2.24.0->scalecodec==1.2.11->bittensor-cli) (3.4.2)\n",
            "Requirement already satisfied: idna<4,>=2.5 in /usr/local/lib/python3.11/dist-packages (from requests>=2.24.0->scalecodec==1.2.11->bittensor-cli) (3.10)\n",
            "Requirement already satisfied: urllib3<3,>=1.21.1 in /usr/local/lib/python3.11/dist-packages (from requests>=2.24.0->scalecodec==1.2.11->bittensor-cli) (2.4.0)\n",
            "Requirement already satisfied: certifi>=2017.4.17 in /usr/local/lib/python3.11/dist-packages (from requests>=2.24.0->scalecodec==1.2.11->bittensor-cli) (2025.7.9)\n",
            "Requirement already satisfied: propcache>=0.2.1 in /usr/local/lib/python3.11/dist-packages (from yarl<2.0,>=1.12.0->aiohttp~=3.10.2->bittensor-cli) (0.3.2)\n",
            "Downloading bittensor_cli-9.8.4-py3-none-any.whl (240 kB)\n",
            "\u001b[2K   \u001b[90m━━━━━━━━━━━━━━━━━━━━━━━━━━━━━━━━━━━━━━━━\u001b[0m \u001b[32m240.2/240.2 kB\u001b[0m \u001b[31m9.2 MB/s\u001b[0m eta \u001b[36m0:00:00\u001b[0m\n",
            "\u001b[?25hDownloading aiohttp-3.10.11-cp311-cp311-manylinux_2_17_x86_64.manylinux2014_x86_64.whl (1.3 MB)\n",
            "\u001b[2K   \u001b[90m━━━━━━━━━━━━━━━━━━━━━━━━━━━━━━━━━━━━━━━━\u001b[0m \u001b[32m1.3/1.3 MB\u001b[0m \u001b[31m29.3 MB/s\u001b[0m eta \u001b[36m0:00:00\u001b[0m\n",
            "\u001b[?25hDownloading backoff-2.2.1-py3-none-any.whl (15 kB)\n",
            "Downloading click-8.1.8-py3-none-any.whl (98 kB)\n",
            "\u001b[2K   \u001b[90m━━━━━━━━━━━━━━━━━━━━━━━━━━━━━━━━━━━━━━━━\u001b[0m \u001b[32m98.2/98.2 kB\u001b[0m \u001b[31m7.5 MB/s\u001b[0m eta \u001b[36m0:00:00\u001b[0m\n",
            "\u001b[?25hDownloading plotly-6.2.0-py3-none-any.whl (9.6 MB)\n",
            "\u001b[2K   \u001b[90m━━━━━━━━━━━━━━━━━━━━━━━━━━━━━━━━━━━━━━━━\u001b[0m \u001b[32m9.6/9.6 MB\u001b[0m \u001b[31m88.1 MB/s\u001b[0m eta \u001b[36m0:00:00\u001b[0m\n",
            "\u001b[?25hDownloading typer-0.15.4-py3-none-any.whl (45 kB)\n",
            "\u001b[2K   \u001b[90m━━━━━━━━━━━━━━━━━━━━━━━━━━━━━━━━━━━━━━━━\u001b[0m \u001b[32m45.3/45.3 kB\u001b[0m \u001b[31m2.6 MB/s\u001b[0m eta \u001b[36m0:00:00\u001b[0m\n",
            "\u001b[?25hBuilding wheels for collected packages: plotille\n",
            "  Building wheel for plotille (pyproject.toml) ... \u001b[?25l\u001b[?25hdone\n",
            "  Created wheel for plotille: filename=plotille-5.0.0-py3-none-any.whl size=58028 sha256=de6ff4f6cf2bf52a2b26011d728e8e77baf74df1fed0a034513f43caab2bb6f7\n",
            "  Stored in directory: /root/.cache/pip/wheels/88/89/45/1b68e4a251ba9902c1ab3b53bbd0aaf22bc5f0b6c044e5e112\n",
            "Successfully built plotille\n",
            "Installing collected packages: plotly, plotille, click, backoff, aiohttp, typer, bittensor-cli\n",
            "  Attempting uninstall: plotly\n",
            "    Found existing installation: plotly 5.24.1\n",
            "    Uninstalling plotly-5.24.1:\n",
            "      Successfully uninstalled plotly-5.24.1\n",
            "  Attempting uninstall: click\n",
            "    Found existing installation: click 8.2.1\n",
            "    Uninstalling click-8.2.1:\n",
            "      Successfully uninstalled click-8.2.1\n",
            "  Attempting uninstall: aiohttp\n",
            "    Found existing installation: aiohttp 3.11.15\n",
            "    Uninstalling aiohttp-3.11.15:\n",
            "      Successfully uninstalled aiohttp-3.11.15\n",
            "  Attempting uninstall: typer\n",
            "    Found existing installation: typer 0.16.0\n",
            "    Uninstalling typer-0.16.0:\n",
            "      Successfully uninstalled typer-0.16.0\n",
            "\u001b[31mERROR: pip's dependency resolver does not currently take into account all the packages that are installed. This behaviour is the source of the following dependency conflicts.\n",
            "gradio 5.31.0 requires fastapi<1.0,>=0.115.2, but you have fastapi 0.110.3 which is incompatible.\n",
            "gradio 5.31.0 requires starlette<1.0,>=0.40.0; sys_platform != \"emscripten\", but you have starlette 0.37.2 which is incompatible.\u001b[0m\u001b[31m\n",
            "\u001b[0mSuccessfully installed aiohttp-3.10.11 backoff-2.2.1 bittensor-cli-9.8.4 click-8.1.8 plotille-5.0.0 plotly-6.2.0 typer-0.15.4\n"
          ]
        }
      ],
      "source": [
        "!pip install bittensor==9.1.0\n",
        "!pip install bittensor-cli"
      ]
    },
    {
      "cell_type": "code",
      "source": [
        "# Create a coldkey\n",
        "# NOTICE: SAVE THE MNEMONICS; otherwise you will not be able to get your fund.\n",
        "\n",
        "!btcli w new-coldkey --quiet --wallet-name default --wallet-path ~/.bittensor/wallets/ --n-words 24 --no-use-password"
      ],
      "metadata": {
        "colab": {
          "base_uri": "https://localhost:8080/"
        },
        "id": "juExlzwCfssd",
        "outputId": "ea2b7728-3148-4326-8bfa-197085c310c0"
      },
      "execution_count": 15,
      "outputs": [
        {
          "output_type": "stream",
          "name": "stdout",
          "text": [
            "\u001b[31m\n",
            "IMPORTANT: Store this mnemonic in a secure (preferable offline place), as anyone who has possession of this mnemonic can use it to regenerate the key and access your tokens.\n",
            "\u001b[0m\n",
            "The mnemonic to the new \u001b[34mcoldkey\u001b[0m is: \u001b[32mdefy army ritual second embark can panel expect symptom question define brass whip dawn above match ceiling usual shoulder coyote leave next piece cup\u001b[0m\n",
            "You can use the mnemonic to recreate the key with `\u001b[32mbtcli\u001b[0m` in case it gets lost.\n"
          ]
        }
      ]
    },
    {
      "cell_type": "code",
      "source": [
        "# Create hotkey\n",
        "# NOTICE: SAVE THE MNEMONICS; otherwise you will not be able to manage your miner\n",
        "!btcli w new-hotkey --quiet --wallet-name default --n-words 24 --hotkey default"
      ],
      "metadata": {
        "colab": {
          "base_uri": "https://localhost:8080/"
        },
        "id": "4Sr2yCK9gJNO",
        "outputId": "cf93d9d4-63cd-4ba7-97f8-88084a8de3b4"
      },
      "execution_count": 21,
      "outputs": [
        {
          "output_type": "stream",
          "name": "stdout",
          "text": [
            "\u001b[31m\n",
            "IMPORTANT: Store this mnemonic in a secure (preferable offline place), as anyone who has possession of this mnemonic can use it to regenerate the key and access your tokens.\n",
            "\u001b[0m\n",
            "The mnemonic to the new \u001b[34mhotkey\u001b[0m is: \u001b[32mharvest firm ketchup gadget mobile assault tray category aerobic smart power vanish garden exhibit surface damp found elder busy silver camera ill wait problem\u001b[0m\n",
            "You can use the mnemonic to recreate the key with `\u001b[32mbtcli\u001b[0m` in case it gets lost.\n"
          ]
        }
      ]
    },
    {
      "cell_type": "code",
      "source": [
        "# SKIP if you created new keys in the previous.\n",
        "# If you already have keys, you can regenerate them\n",
        "!btcli w regen_coldkey\n",
        "!btcli w regen_hotkey"
      ],
      "metadata": {
        "id": "giCOvcVQiRzU"
      },
      "execution_count": 28,
      "outputs": []
    },
    {
      "cell_type": "code",
      "source": [
        "# run the command below to get the ss58 address for your new wallet. Then send 0.01 Tao there.\n",
        "\n",
        "!btcli w overview --wallet-name default"
      ],
      "metadata": {
        "colab": {
          "base_uri": "https://localhost:8080/"
        },
        "id": "p1L9BhNAhOoc",
        "outputId": "e4b9e8d9-6340-4b53-eb56-225f19a1dd30"
      },
      "execution_count": 24,
      "outputs": [
        {
          "output_type": "stream",
          "name": "stdout",
          "text": [
            "\u001b[?25l\u001b[32m⠋\u001b[0m \u001b[33mConnecting to Substrate:\u001b[0m\u001b[1;37m Network: finney, Chain: \u001b[0m\n",
            "\u001b[2K\u001b[1A\u001b[2K\u001b[32m⠙\u001b[0m \u001b[33mConnecting to Substrate:\u001b[0m\u001b[1;37m Network: finney, Chain: \u001b[0m\n",
            "\u001b[2K\u001b[1A\u001b[2K\u001b[32m⠹\u001b[0m \u001b[33mConnecting to Substrate:\u001b[0m\u001b[1;37m Network: finney, Chain: \u001b[0m\n",
            "\u001b[2K\u001b[1A\u001b[2K\u001b[32m⠸\u001b[0m \u001b[33mConnecting to Substrate:\u001b[0m\u001b[1;37m Network: finney, Chain: \u001b[0m\n",
            "\u001b[2K\u001b[1A\u001b[2K\u001b[32m⠼\u001b[0m \u001b[33mConnecting to Substrate:\u001b[0m\u001b[1;37m Network: finney, Chain: \u001b[0m\n",
            "\u001b[2K\u001b[1A\u001b[2K\u001b[32m⠴\u001b[0m \u001b[33mConnecting to Substrate:\u001b[0m\u001b[1;37m Network: finney, Chain: \u001b[0m\n",
            "\u001b[2K\u001b[1A\u001b[2K\u001b[32m⠦\u001b[0m \u001b[33mConnecting to Substrate:\u001b[0m\u001b[1;37m Network: finney, Chain: \u001b[0m\n",
            "\u001b[2K\u001b[1A\u001b[2K\u001b[32m⠧\u001b[0m \u001b[33mConnecting to Substrate:\u001b[0m\u001b[1;37m Network: finney, Chain: \u001b[0m\n",
            "\u001b[2K\u001b[1A\u001b[2K\u001b[32m⠇\u001b[0m \u001b[33mConnecting to Substrate:\u001b[0m\u001b[1;37m Network: finney, Chain: \u001b[0m\n",
            "\u001b[2K\u001b[1A\u001b[2K\u001b[32m⠏\u001b[0m \u001b[33mConnecting to Substrate:\u001b[0m\u001b[1;37m Network: finney, Chain: \u001b[0m\n",
            "\u001b[2K\u001b[1A\u001b[2K\u001b[32m⠋\u001b[0m \u001b[33mConnecting to Substrate:\u001b[0m\u001b[1;37m Network: finney, Chain: \u001b[0m\n",
            "\u001b[2K\u001b[1A\u001b[2K\u001b[32m⠙\u001b[0m \u001b[33mConnecting to Substrate:\u001b[0m\u001b[1;37m Network: finney, Chain: \u001b[0m\n",
            "\u001b[2K\u001b[1A\u001b[2K\u001b[32m⠹\u001b[0m \u001b[33mConnecting to Substrate:\u001b[0m\u001b[1;37m Network: finney, Chain: \u001b[0m\n",
            "\u001b[2K\u001b[1A\u001b[2K\u001b[32m⠼\u001b[0m \u001b[33mConnecting to Substrate:\u001b[0m\u001b[1;37m Network: finney, Chain: \u001b[0m\n",
            "\u001b[2K\u001b[1A\u001b[2K\u001b[32m⠴\u001b[0m \u001b[33mConnecting to Substrate:\u001b[0m\u001b[1;37m Network: finney, Chain: \u001b[0m\n",
            "\u001b[2K\u001b[1A\u001b[2K\u001b[32m⠦\u001b[0m \u001b[33mConnecting to Substrate:\u001b[0m\u001b[1;37m Network: finney, Chain: \u001b[0m\n",
            "\u001b[2K\u001b[1A\u001b[2K\u001b[32m⠧\u001b[0m \u001b[33mConnecting to Substrate:\u001b[0m\u001b[1;37m Network: finney, Chain: \u001b[0m\n",
            "\u001b[2K\u001b[1A\u001b[2K\u001b[32m⠇\u001b[0m \u001b[33mConnecting to Substrate:\u001b[0m\u001b[1;37m Network: finney, Chain: \u001b[0m\n",
            "\u001b[2K\u001b[1A\u001b[2K\u001b[32m⠋\u001b[0m \u001b[33mConnecting to Substrate:\u001b[0m\u001b[1;37m Network: finney, Chain: \u001b[0m\n",
            "\u001b[2K\u001b[1A\u001b[2K\u001b[32m⠙\u001b[0m \u001b[33mConnecting to Substrate:\u001b[0m\u001b[1;37m Network: finney, Chain: \u001b[0m\n",
            "\u001b[2K\u001b[1A\u001b[2K\u001b[32m⠹\u001b[0m \u001b[33mConnecting to Substrate:\u001b[0m\u001b[1;37m Network: finney, Chain: \u001b[0m\n",
            "\u001b[2K\u001b[1A\u001b[2K\u001b[32m⠸\u001b[0m \u001b[33mConnecting to Substrate:\u001b[0m\u001b[1;37m Network: finney, Chain: \u001b[0m\n",
            "\u001b[2K\u001b[1A\u001b[2K\u001b[32m⠼\u001b[0m \u001b[33mConnecting to Substrate:\u001b[0m\u001b[1;37m Network: finney, Chain: \u001b[0m\n",
            "\u001b[2K\u001b[1A\u001b[2K\u001b[32m⠧\u001b[0m \u001b[33mConnecting to Substrate:\u001b[0m\u001b[1;37m Network: finney, Chain: \u001b[0m\n",
            "\u001b[2K\u001b[1A\u001b[2K\u001b[32m⠇\u001b[0m \u001b[33mConnecting to Substrate:\u001b[0m\u001b[1;37m Network: finney, Chain: \u001b[0m\n",
            "\u001b[2K\u001b[1A\u001b[2K\u001b[32m⠏\u001b[0m \u001b[33mConnecting to Substrate:\u001b[0m\u001b[1;37m Network: finney, Chain: \u001b[0m\n",
            "\u001b[2K\u001b[1A\u001b[2K\u001b[32m⠋\u001b[0m \u001b[33mConnecting to Substrate:\u001b[0m\u001b[1;37m Network: finney, Chain: \u001b[0m\n",
            "\u001b[2K\u001b[1A\u001b[2K\u001b[32m⠙\u001b[0m \u001b[33mConnecting to Substrate:\u001b[0m\u001b[1;37m Network: finney, Chain: \u001b[0m\n",
            "\u001b[1;37mwss://entrypoint-finney.opentensor.ai:443...\u001b[0m\n",
            "\u001b[2K\u001b[32m▰▱▱▱▱▱▱\u001b[0m 📡 Synchronizing with chain \u001b[37mfinney\u001b[0m\n",
            "\u001b[1A\u001b[2K\u001b[33mWarning: Your terminal width might be too small to view all information clearly\u001b[0m\n",
            "                          \u001b[4;91mWallet\u001b[0m                          \n",
            "                                                          \n",
            "\u001b[96mdefault\u001b[0m : \u001b[95m5GpxfjJW4cPBLEP97t3eer1AFZSKtZZ5Wa5GxwMcSGNiXZj4\u001b[0m\n",
            "                     \u001b[91mNetwork: finney\u001b[0m                      \n",
            "                                                          \n",
            "              \u001b[2;3;96mWallet free balance: \u001b[0m\u001b[2;3;91m‎0.0000 τ‎\u001b[0m               \n"
          ]
        }
      ]
    },
    {
      "cell_type": "code",
      "source": [
        "!btcli s register --netuid 23 --wallet-name default --hotkey default"
      ],
      "metadata": {
        "colab": {
          "base_uri": "https://localhost:8080/"
        },
        "id": "YmDEdEq2h4K3",
        "outputId": "27814a7b-0f10-409b-9d4f-43574b38c99f"
      },
      "execution_count": 30,
      "outputs": [
        {
          "output_type": "stream",
          "name": "stdout",
          "text": [
            "\u001b[?25l\u001b[32m⠋\u001b[0m \u001b[33mConnecting to Substrate:\u001b[0m\u001b[1;37m Network: finney, Chain: \u001b[0m\n",
            "\u001b[2K\u001b[1A\u001b[2K\u001b[32m⠙\u001b[0m \u001b[33mConnecting to Substrate:\u001b[0m\u001b[1;37m Network: finney, Chain: \u001b[0m\n",
            "\u001b[2K\u001b[1A\u001b[2K\u001b[32m⠹\u001b[0m \u001b[33mConnecting to Substrate:\u001b[0m\u001b[1;37m Network: finney, Chain: \u001b[0m\n",
            "\u001b[2K\u001b[1A\u001b[2K\u001b[32m⠸\u001b[0m \u001b[33mConnecting to Substrate:\u001b[0m\u001b[1;37m Network: finney, Chain: \u001b[0m\n",
            "\u001b[2K\u001b[1A\u001b[2K\u001b[32m⠼\u001b[0m \u001b[33mConnecting to Substrate:\u001b[0m\u001b[1;37m Network: finney, Chain: \u001b[0m\n",
            "\u001b[2K\u001b[1A\u001b[2K\u001b[32m⠴\u001b[0m \u001b[33mConnecting to Substrate:\u001b[0m\u001b[1;37m Network: finney, Chain: \u001b[0m\n",
            "\u001b[2K\u001b[1A\u001b[2K\u001b[32m⠦\u001b[0m \u001b[33mConnecting to Substrate:\u001b[0m\u001b[1;37m Network: finney, Chain: \u001b[0m\n",
            "\u001b[2K\u001b[1A\u001b[2K\u001b[32m⠧\u001b[0m \u001b[33mConnecting to Substrate:\u001b[0m\u001b[1;37m Network: finney, Chain: \u001b[0m\n",
            "\u001b[2K\u001b[1A\u001b[2K\u001b[32m⠇\u001b[0m \u001b[33mConnecting to Substrate:\u001b[0m\u001b[1;37m Network: finney, Chain: \u001b[0m\n",
            "\u001b[2K\u001b[1A\u001b[2K\u001b[32m⠏\u001b[0m \u001b[33mConnecting to Substrate:\u001b[0m\u001b[1;37m Network: finney, Chain: \u001b[0m\n",
            "\u001b[2K\u001b[1A\u001b[2K\u001b[32m⠋\u001b[0m \u001b[33mConnecting to Substrate:\u001b[0m\u001b[1;37m Network: finney, Chain: \u001b[0m\n",
            "\u001b[2K\u001b[1A\u001b[2K\u001b[32m⠙\u001b[0m \u001b[33mConnecting to Substrate:\u001b[0m\u001b[1;37m Network: finney, Chain: \u001b[0m\n",
            "\u001b[2K\u001b[1A\u001b[2K\u001b[32m⠹\u001b[0m \u001b[33mConnecting to Substrate:\u001b[0m\u001b[1;37m Network: finney, Chain: \u001b[0m\n",
            "\u001b[2K\u001b[1A\u001b[2K\u001b[32m⠸\u001b[0m \u001b[33mConnecting to Substrate:\u001b[0m\u001b[1;37m Network: finney, Chain: \u001b[0m\n",
            "\u001b[2K\u001b[1A\u001b[2K\u001b[32m⠼\u001b[0m \u001b[33mConnecting to Substrate:\u001b[0m\u001b[1;37m Network: finney, Chain: \u001b[0m\n",
            "\u001b[2K\u001b[1A\u001b[2K\u001b[32m⠦\u001b[0m \u001b[33mConnecting to Substrate:\u001b[0m\u001b[1;37m Network: finney, Chain: \u001b[0m\n",
            "\u001b[2K\u001b[1A\u001b[2K\u001b[32m⠧\u001b[0m \u001b[33mConnecting to Substrate:\u001b[0m\u001b[1;37m Network: finney, Chain: \u001b[0m\n",
            "\u001b[2K\u001b[1A\u001b[2K\u001b[32m⠇\u001b[0m \u001b[33mConnecting to Substrate:\u001b[0m\u001b[1;37m Network: finney, Chain: \u001b[0m\n",
            "\u001b[2K\u001b[1A\u001b[2K\u001b[32m⠏\u001b[0m \u001b[33mConnecting to Substrate:\u001b[0m\u001b[1;37m Network: finney, Chain: \u001b[0m\n",
            "\u001b[2K\u001b[1A\u001b[2K\u001b[32m⠋\u001b[0m \u001b[33mConnecting to Substrate:\u001b[0m\u001b[1;37m Network: finney, Chain: \u001b[0m\n",
            "\u001b[2K\u001b[1A\u001b[2K\u001b[32m⠙\u001b[0m \u001b[33mConnecting to Substrate:\u001b[0m\u001b[1;37m Network: finney, Chain: \u001b[0m\n",
            "\u001b[2K\u001b[1A\u001b[2K\u001b[32m⠸\u001b[0m \u001b[33mConnecting to Substrate:\u001b[0m\u001b[1;37m Network: finney, Chain: \u001b[0m\n",
            "\u001b[2K\u001b[1A\u001b[2K\u001b[32m⠼\u001b[0m \u001b[33mConnecting to Substrate:\u001b[0m\u001b[1;37m Network: finney, Chain: \u001b[0m\n",
            "\u001b[2K\u001b[1A\u001b[2K\u001b[32m⠴\u001b[0m \u001b[33mConnecting to Substrate:\u001b[0m\u001b[1;37m Network: finney, Chain: \u001b[0m\n",
            "\u001b[2K\u001b[1A\u001b[2K\u001b[32m⠦\u001b[0m \u001b[33mConnecting to Substrate:\u001b[0m\u001b[1;37m Network: finney, Chain: \u001b[0m\n",
            "\u001b[2K\u001b[1A\u001b[2K\u001b[32m⠧\u001b[0m \u001b[33mConnecting to Substrate:\u001b[0m\u001b[1;37m Network: finney, Chain: \u001b[0m\n",
            "\u001b[2K\u001b[1A\u001b[2K\u001b[32m⠇\u001b[0m \u001b[33mConnecting to Substrate:\u001b[0m\u001b[1;37m Network: finney, Chain: \u001b[0m\n",
            "\u001b[2K\u001b[1A\u001b[2K\u001b[32m⠏\u001b[0m \u001b[33mConnecting to Substrate:\u001b[0m\u001b[1;37m Network: finney, Chain: \u001b[0m\n",
            "\u001b[2K\u001b[1A\u001b[2K\u001b[32m⠋\u001b[0m \u001b[33mConnecting to Substrate:\u001b[0m\u001b[1;37m Network: finney, Chain: \u001b[0m\n",
            "\u001b[2K\u001b[1A\u001b[2K\u001b[32m⠙\u001b[0m \u001b[33mConnecting to Substrate:\u001b[0m\u001b[1;37m Network: finney, Chain: \u001b[0m\n",
            "\u001b[2K\u001b[1A\u001b[2K\u001b[32m⠼\u001b[0m \u001b[33mConnecting to Substrate:\u001b[0m\u001b[1;37m Network: finney, Chain: \u001b[0m\n",
            "\u001b[2K\u001b[1A\u001b[2K\u001b[32m⠴\u001b[0m \u001b[33mConnecting to Substrate:\u001b[0m\u001b[1;37m Network: finney, Chain: \u001b[0m\n",
            "\u001b[2K\u001b[1A\u001b[2K\u001b[32m⠦\u001b[0m \u001b[33mConnecting to Substrate:\u001b[0m\u001b[1;37m Network: finney, Chain: \u001b[0m\n",
            "\u001b[2K\u001b[1A\u001b[2K\u001b[32m⠧\u001b[0m \u001b[33mConnecting to Substrate:\u001b[0m\u001b[1;37m Network: finney, Chain: \u001b[0m\n",
            "\u001b[2K\u001b[1A\u001b[2K\u001b[32m⠇\u001b[0m \u001b[33mConnecting to Substrate:\u001b[0m\u001b[1;37m Network: finney, Chain: \u001b[0m\n",
            "\u001b[2K\u001b[1A\u001b[2K\u001b[32m⠏\u001b[0m \u001b[33mConnecting to Substrate:\u001b[0m\u001b[1;37m Network: finney, Chain: \u001b[0m\n",
            "\u001b[2K\u001b[1A\u001b[2K\u001b[32m⠋\u001b[0m \u001b[33mConnecting to Substrate:\u001b[0m\u001b[1;37m Network: finney, Chain: \u001b[0m\n",
            "\u001b[1;37mwss://entrypoint-finney.opentensor.ai:443...\u001b[0m\n",
            "\u001b[1A\u001b[2K\u001b[1A\u001b[2K\u001b[31mInsufficient balance ‎\u001b[0m\u001b[1;31m0.0000\u001b[0m\u001b[31m τ‎ to register neuron. Current recycle is ‎\u001b[0m\u001b[1;31m0.0005\u001b[0m\u001b[31m τ‎\u001b[0m\n",
            "\u001b[31mTAO\u001b[0m\n"
          ]
        }
      ]
    }
  ]
}