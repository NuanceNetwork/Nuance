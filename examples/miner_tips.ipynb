{
  "cells": [
    {
      "cell_type": "markdown",
      "metadata": {
        "id": "bS3yJkUz2rz7"
      },
      "source": [
        "## Miner Tips and Tricks for Nuance Subnet\n",
        "\n",
        "In this subnet, miners are rewarded for contributing factual and nuanced posts and comments. The reward system is designed to encourage high-quality content by basing rewards on the engagement received from verified accounts.\n",
        "\n",
        "1. How it works\n",
        "\n",
        "Once a miner has verified their account to validators (as explained in the miner docs), they need to make nuanced posts that get engagement from trusted users.\n",
        "\n",
        "If a post is nuanced or not is determined by an AI being prompted with a text from the Nuance Constitution, along with the post by the miner: https://github.com/NuanceNetwork/constitution/blob/niche-mvp/post_evaluation_prompt.txt\n",
        "\n",
        "Only posts that passes the check is eligable for rewards.\n",
        "\n",
        "Then, the posts that passes the nuance test are checked for engagement. Only replies and quoted retweets from legacy users count towards the miner's score. You can find the list of legacy users here: https://raw.githubusercontent.com/gdams/twitter-legacy-verified/main/legacy-verified.csv\n",
        "\n",
        "2. Tips\n",
        "\n",
        "- Since only nuanced posts counts, miners should check their post ideas with the code below before starting to market their post, in order to make sure that their engagement will count.\n",
        "\n",
        "- Only engagement from legacy users counts towards the score of the miner, so targeting them with your posts is ideal. You can directly reply to their post in order to try to get engagement from them. Do remember that their response has to be neutral or positive for it to count."
      ]
    },
    {
      "cell_type": "code",
      "execution_count": null,
      "metadata": {
        "id": "VkAG5gzi2mlf"
      },
      "outputs": [],
      "source": [
        "\"\"\"\n",
        "1. Only engagement from verified users counts towards miners scores, thus it is important to be able to look for them specifically.\n",
        "\n",
        "By running the code below you import them to a Pandas database you can use to search for usernames, or print them out.\n",
        "\"\"\"\n",
        "\n",
        "import pandas as pd\n",
        "\n",
        "# URL to the raw CSV file\n",
        "csv_url = \"https://raw.githubusercontent.com/gdams/twitter-legacy-verified/main/legacy-verified.csv\"\n",
        "\n",
        "# Read the CSV directly from GitHub\n",
        "df = pd.read_csv(csv_url)\n",
        "\n",
        "# Print column names\n",
        "print(\"Column Names:\")\n",
        "print(df.columns.tolist())\n",
        "\n",
        "# Print top 5 rows\n",
        "print(\"\\nTop 5 Rows:\")\n",
        "print(df.head())\n",
        "\n",
        "\n"
      ]
    },
    {
      "cell_type": "code",
      "execution_count": null,
      "metadata": {
        "id": "GmVl6wqF3SAT"
      },
      "outputs": [],
      "source": [
        "\"\"\"\n",
        "2. Only posts that passes the Nuance test can get any reward, thus it is important for miners to check their post before actively looking for engagement.\n",
        "\"\"\"\n",
        "\n",
        "# You need to get an API key from Nineteen.ai, you can get a free key here: https://nineteen.ai/\n",
        "rayon_api_key = \"\"\"Enter your Rayon API key here\"\"\"\n",
        "\n",
        "post = \"\"\"Enter the post you want to check here\"\"\".strip()\n",
        "\n",
        "\n",
        "nuance_checking_prompt = \"\"\"Given the goal of improving the world by promoting tweets that help people form nuanced, thoughtful perspectives: does this tweet demonstrate intellectual humility, acknowledge complexity, promote understanding, avoid simplistic or adversarial framing, and/or encourage ethical reflection?\n",
        "\n",
        "Tweet 's text provided here:\n",
        "```\n",
        "{}\n",
        "```\n",
        "\n",
        "Respond with only \"Approve\" or \"Disapprove\".\"\"\".format(post)\n",
        "\n",
        "\n",
        "import json\n",
        "import contextlib\n",
        "import requests\n",
        "\n",
        "url = \"https://api.nineteen.ai/v1/chat/completions\"\n",
        "\n",
        "headers = {\n",
        "    \"Authorization\": \"Bearer {}\" + rayon_api_key,\n",
        "    \"Content-Type\": \"application/json\"\n",
        "}\n",
        "\n",
        "data = {\n",
        "    \"messages\": [\n",
        "          { \"role\": 'user', \"content\": nuance_checking_prompt }\n",
        "    ],\n",
        "    \"model\": \"unsloth/Llama-3.2-3B-Instruct\",\n",
        "    \"temperature\": 0.5,\n",
        "    \"max_tokens\": 500,\n",
        "    \"top_p\": 0.5,\n",
        "    \"stream\": True\n",
        "}\n",
        "\n",
        "\n",
        "response = requests.post(url, headers=headers, json=data)\n",
        "if response.status_code != 200:\n",
        "    raise Exception(response.text)\n",
        "\n",
        "for x in response.content.decode().split(\"\\n\"):\n",
        "    if not x:\n",
        "        continue\n",
        "    with contextlib.suppress(Exception):\n",
        "        print(json.loads(x.split(\"data: \")[1].strip())[\"choices\"][0][\"delta\"][\"content\"], end=\"\", flush=True)\n"
      ]
    }
  ],
  "metadata": {
    "colab": {
      "provenance": []
    },
    "kernelspec": {
      "display_name": "Python 3",
      "name": "python3"
    },
    "language_info": {
      "name": "python"
    }
  },
  "nbformat": 4,
  "nbformat_minor": 0
}
